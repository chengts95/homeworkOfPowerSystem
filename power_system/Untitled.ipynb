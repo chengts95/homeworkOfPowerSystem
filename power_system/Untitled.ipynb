{
 "cells": [
  {
   "cell_type": "code",
   "execution_count": null,
   "metadata": {
    "collapsed": true
   },
   "outputs": [],
   "source": []
  },
  {
   "cell_type": "code",
   "execution_count": 1,
   "metadata": {
    "collapsed": false
   },
   "outputs": [
    {
     "name": "stdout",
     "output_type": "stream",
     "text": [
      "960.0\n",
      "0.8066666666666666 54.45 34.28333333333333 -6.05 2.747933884297521e-06 1.9834710743801653e-05\n"
     ]
    }
   ],
   "source": [
    "import math\n",
    "Un=220#kv\n",
    "Sn=120#MVA\n",
    "I0p=0.8#%\n",
    "P0=133#kw\n",
    "Pkmax=480#kw\n",
    "Uk12=22#%\n",
    "Uk13=12\n",
    "Uk23=7\n",
    "Rt100=Pkmax*Un**2/(2000*Sn**2)\n",
    "Uk1=0.5*(Uk12+Uk13-Uk23)\n",
    "Uk2=0.5*(Uk12+Uk23-Uk13)\n",
    "Uk3=0.5*(Uk13+Uk23-Uk12)\n",
    "Xt1=Uk1*(Un**2)/(100*Sn)\n",
    "Xt2=Uk2*Un**2/(100*Sn)\n",
    "Xt3=Uk3*Un**2/(100*Sn)\n",
    "Gt=P0/(1000*Un**2)#空载损耗是有功，认为由电导Gt消耗\n",
    "Bt=I0p*Sn/(100*Un**2)#空载时认为电流主要通过Bt,Ib约等于I0\n",
    "R0=1/Gt\n",
    "X0=1/Bt\n",
    "Z0=complex(R0,X0)\n",
    "Q0=10*I0p*Sn #kw\n",
    "print(Q0)\n",
    "print(Rt100,Xt1,Xt2,Xt3,Gt,Bt)"
   ]
  },
  {
   "cell_type": "code",
   "execution_count": 2,
   "metadata": {
    "collapsed": false
   },
   "outputs": [
    {
     "name": "stdout",
     "output_type": "stream",
     "text": [
      "613 3600.0 0.97\n"
     ]
    }
   ],
   "source": [
    "#低压空载，高中压额定运行，求有功和无功损耗\n",
    "\n",
    "P=Pkmax+P0\n",
    "Q=Q0+(Uk1+Uk2)*Sn\n",
    "PF=(120000-Q)/120000\n",
    "print(P,Q,PF)"
   ]
  },
  {
   "cell_type": "code",
   "execution_count": null,
   "metadata": {
    "collapsed": true
   },
   "outputs": [],
   "source": []
  }
 ],
 "metadata": {
  "kernelspec": {
   "display_name": "Python 3",
   "language": "python",
   "name": "python3"
  },
  "language_info": {
   "codemirror_mode": {
    "name": "ipython",
    "version": 3
   },
   "file_extension": ".py",
   "mimetype": "text/x-python",
   "name": "python",
   "nbconvert_exporter": "python",
   "pygments_lexer": "ipython3",
   "version": "3.4.3"
  }
 },
 "nbformat": 4,
 "nbformat_minor": 0
}
