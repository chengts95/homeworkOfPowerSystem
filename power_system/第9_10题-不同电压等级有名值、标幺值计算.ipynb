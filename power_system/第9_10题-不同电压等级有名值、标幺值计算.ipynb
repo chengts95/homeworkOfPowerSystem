{
 "cells": [
  {
   "cell_type": "markdown",
   "metadata": {},
   "source": [
    "9.试作下图所示电力系统的阻抗图，并将参数注载图上（不计线路和变压器的电阻和导纳）。\n",
    "\n",
    "    1.计算时取6KV电压为基本级。\n",
    "    2.计算时取10KV电压为基本级。\n",
    "    3.计算时取110KV电压为基本级。\n",
    "<img src=\"./第9、10题图.png\" />\n"
   ]
  },
  {
   "cell_type": "markdown",
   "metadata": {},
   "source": [
    "1.解：\n",
    "先计算各参数的实际值。"
   ]
  },
  {
   "cell_type": "code",
   "execution_count": 1,
   "metadata": {
    "collapsed": false
   },
   "outputs": [
    {
     "data": {
      "text/plain": [
       "96.0815625"
      ]
     },
     "execution_count": 1,
     "metadata": {},
     "output_type": "execute_result"
    }
   ],
   "source": [
    "x1=0.4\n",
    "L1=100\n",
    "X_L1=x1*L1\n",
    "\n",
    "x2=0.4\n",
    "L2=80\n",
    "X_L2=x2*L2\n",
    "\n",
    "#T1 SF7-16000/110\n",
    "Sn_T1=16 #MVA\n",
    "Uk1=10.5 #%\n",
    "Un_T1=121#KV\n",
    "X_T1=Uk1*Un_T1**2/(100*Sn_T1)\n",
    "\n",
    "#T2 S\n",
    "Sn_T2=31.5 #MVA\n",
    "Uk2=10.5 #%\n",
    "Un_T2=121#KV\n",
    "X_T2=Uk2*Un_T2**2/(100*Sn_T2)\n",
    "X_T1"
   ]
  },
  {
   "cell_type": "markdown",
   "metadata": {},
   "source": [
    "计算各变压器变比："
   ]
  },
  {
   "cell_type": "code",
   "execution_count": 2,
   "metadata": {
    "collapsed": true
   },
   "outputs": [],
   "source": [
    "k1=6.3/121\n",
    "k2=110/11"
   ]
  },
  {
   "cell_type": "markdown",
   "metadata": {},
   "source": [
    "将实际值归算成6kv为基准的归算值："
   ]
  },
  {
   "cell_type": "code",
   "execution_count": 3,
   "metadata": {
    "collapsed": false
   },
   "outputs": [
    {
     "name": "stdout",
     "output_type": "stream",
     "text": [
      "X_L2=8.675\n",
      "X_L1=0.108\n",
      "X_T1=0.260\n",
      "X_T2=13.230\n"
     ]
    }
   ],
   "source": [
    "\n",
    "imp_reduction=lambda z,k:z*(k**2)\n",
    "X_L2x=imp_reduction(X_L2,k1*k2)\n",
    "X_L1x=imp_reduction(X_L1,k1)\n",
    "X_T1x=imp_reduction(X_T1,k1)\n",
    "X_T2x=imp_reduction(X_T2,k1*k2)\n",
    "\n",
    "print(\"X_L2=%.3f\"%X_L2x)\n",
    "print(\"X_L1=%.3f\"%X_L1x)\n",
    "print(\"X_T1=%.3f\"%X_T1x)\n",
    "print(\"X_T2=%.3f\"%X_T2x)"
   ]
  },
  {
   "cell_type": "markdown",
   "metadata": {},
   "source": [
    "2.10kv为基准，因为之前算出了实际值，因此只需要重算k:"
   ]
  },
  {
   "cell_type": "code",
   "execution_count": 4,
   "metadata": {
    "collapsed": false
   },
   "outputs": [
    {
     "name": "stdout",
     "output_type": "stream",
     "text": [
      "X_L2=32.000\n",
      "X_L1=0.400\n",
      "X_T1=0.961\n",
      "X_T2=0.488\n"
     ]
    }
   ],
   "source": [
    "#10kv\n",
    "k1=121/6.3\n",
    "k2=11/110\n",
    "\n",
    "\n",
    "X_L2x=imp_reduction(X_L2,1)\n",
    "X_L1x=imp_reduction(X_L1,k2)\n",
    "X_T1x=imp_reduction(X_T1,k2)\n",
    "X_T2x=imp_reduction(X_T2,k2)\n",
    "\n",
    "print(\"X_L2=%.3f\"%X_L2x)\n",
    "print(\"X_L1=%.3f\"%X_L1x)\n",
    "print(\"X_T1=%.3f\"%X_T1x)\n",
    "print(\"X_T2=%.3f\"%X_T2x)"
   ]
  },
  {
   "cell_type": "markdown",
   "metadata": {
    "collapsed": false
   },
   "source": [
    "3.以110kv为基值:"
   ]
  },
  {
   "cell_type": "code",
   "execution_count": 5,
   "metadata": {
    "collapsed": false
   },
   "outputs": [
    {
     "name": "stdout",
     "output_type": "stream",
     "text": [
      "X_L2=3200.000\n",
      "X_L1=40.000\n",
      "X_T1=96.082\n",
      "X_T2=48.803\n"
     ]
    }
   ],
   "source": [
    "#110kv\n",
    "k1=121/6.3\n",
    "k2=110/11\n",
    "\n",
    "\n",
    "X_L2x=imp_reduction(X_L2,k2)\n",
    "X_L1x=imp_reduction(X_L1,1)\n",
    "X_T1x=imp_reduction(X_T1,1)\n",
    "X_T2x=imp_reduction(X_T2,1)\n",
    "\n",
    "print(\"X_L2=%.3f\"%X_L2x)\n",
    "print(\"X_L1=%.3f\"%X_L1x)\n",
    "print(\"X_T1=%.3f\"%X_T1x)\n",
    "print(\"X_T2=%.3f\"%X_T2x)"
   ]
  },
  {
   "cell_type": "markdown",
   "metadata": {},
   "source": [
    "10．\t对上题所示电力系统，试作以标幺值表示的阻抗图。并将参数注在图上。取基准功率$S_{B}=100MVA$ ；$110KV$级的基准电压$U_{B}=110kV$ 。"
   ]
  },
  {
   "cell_type": "markdown",
   "metadata": {},
   "source": [
    "有两种做法，一种将各实际值归算到110kv等级然后除以110kv的基值。另一种，将110kv基值归算到各电压等级，得到各电压等级的基值。\n",
    "\n",
    "因为110的值已经算出很容易得出结论，因此在此我先采取第一种做法."
   ]
  },
  {
   "cell_type": "code",
   "execution_count": 6,
   "metadata": {
    "collapsed": false
   },
   "outputs": [
    {
     "name": "stdout",
     "output_type": "stream",
     "text": [
      "X_L2=26.446\n",
      "X_L1=0.331\n",
      "X_T1=0.794\n",
      "X_T2=0.403\n"
     ]
    }
   ],
   "source": [
    "#标幺值计算1\n",
    "UB=110#kv\n",
    "SB=100#MVA\n",
    "XB=UB**2/SB\n",
    "puv=lambda x,xb:x/xb\n",
    "X_L2b=puv(X_L2x,XB)\n",
    "X_L1b=puv(X_L1x,XB)\n",
    "X_T1b=puv(X_T1x,XB)\n",
    "X_T2b=puv(X_T2x,XB)\n",
    "\n",
    "print(\"X_L2=%.3f\"%X_L2b)\n",
    "print(\"X_L1=%.3f\"%X_L1b)\n",
    "print(\"X_T1=%.3f\"%X_T1b)\n",
    "print(\"X_T2=%.3f\"%X_T2b)"
   ]
  },
  {
   "cell_type": "markdown",
   "metadata": {},
   "source": [
    "第二种做法"
   ]
  },
  {
   "cell_type": "code",
   "execution_count": 7,
   "metadata": {
    "collapsed": false
   },
   "outputs": [
    {
     "name": "stdout",
     "output_type": "stream",
     "text": [
      "X_L2=26.446\n",
      "X_L1=0.331\n",
      "X_T1=0.794\n",
      "X_T2=0.403\n"
     ]
    }
   ],
   "source": [
    "#标幺值计算2\n",
    "k1=6.3/121\n",
    "k2=11/110\n",
    "\n",
    "U_6B=UB*k1\n",
    "U_11B=UB*k2\n",
    "X_6B=U_6B**2/SB\n",
    "X_11B=U_11B**2/SB\n",
    "\n",
    "X_L2b=puv(X_L2,X_11B)\n",
    "\n",
    "\n",
    "print(\"X_L2=%.3f\"%X_L2b)\n",
    "print(\"X_L1=%.3f\"%X_L1b)\n",
    "print(\"X_T1=%.3f\"%X_T1b)\n",
    "print(\"X_T2=%.3f\"%X_T2b)"
   ]
  },
  {
   "cell_type": "code",
   "execution_count": null,
   "metadata": {
    "collapsed": true
   },
   "outputs": [],
   "source": []
  }
 ],
 "metadata": {
  "kernelspec": {
   "display_name": "Python 3",
   "language": "python",
   "name": "python3"
  },
  "language_info": {
   "codemirror_mode": {
    "name": "ipython",
    "version": 3
   },
   "file_extension": ".py",
   "mimetype": "text/x-python",
   "name": "python",
   "nbconvert_exporter": "python",
   "pygments_lexer": "ipython3",
   "version": "3.4.3"
  }
 },
 "nbformat": 4,
 "nbformat_minor": 0
}
