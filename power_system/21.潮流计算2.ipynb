{
 "cells": [
  {
   "cell_type": "markdown",
   "metadata": {},
   "source": [
    "某三节点系统如下图所示。线路阻抗标幺值 $Z_{L}=j0.1,\\frac{Y_{l}}{2}=j0.01$ ，节点1： $S_{1}=2.8653+j1.2244$ ，节点2：$P_{2}=0.6661,U_{2}=1.05$   ，节点3：$U_{3}=1,\\theta=0$ ，用牛顿拉夫逊法和P-Q解耦法计算潮流。并计算线路功率 。\n",
    "<img src=\"./21题图.png\" />"
   ]
  },
  {
   "cell_type": "code",
   "execution_count": 25,
   "metadata": {
    "collapsed": false
   },
   "outputs": [
    {
     "name": "stdout",
     "output_type": "stream",
     "text": [
      "PYPOWER Version 5.0.0, 29-May-2015 -- AC Power Flow (Newton)\n",
      "\n",
      "\n",
      "Newton's method power flow converged in 3 iterations.\n",
      "\n",
      "Converged in 0.02 seconds\n",
      "================================================================================\n",
      "|     System Summary                                                           |\n",
      "================================================================================\n",
      "\n",
      "How many?                How much?              P (MW)            Q (MVAr)\n",
      "---------------------    -------------------  -------------  -----------------\n",
      "Buses              3     Total Gen Capacity     500.0        -600.0 to 600.0\n",
      "Generators         2     On-line Capacity       500.0        -600.0 to 600.0\n",
      "Committed Gens     2     Generation (actual)    353.1             204.7\n",
      "Loads              2     Load                   353.1             122.4\n",
      "  Fixed            2       Fixed                353.1             122.4\n",
      "  Dispatchable     0       Dispatchable           0.0 of 0.0        0.0\n",
      "Shunts             0     Shunt (inj)              0.0               0.0\n",
      "Branches           3     Losses (I^2 * Z)         0.00             88.31\n",
      "Transformers       0     Branch Charging (inj)     -                6.0\n",
      "Inter-ties         0     Total Inter-tie Flow     0.0               0.0\n",
      "Areas              1\n",
      "\n",
      "                          Minimum                      Maximum\n",
      "                 -------------------------  --------------------------------\n",
      "Voltage Magnitude   0.948 p.u. @ bus 1          1.050 p.u. @ bus 2   \n",
      "Voltage Angle     -12.61 deg   @ bus 1          0.00 deg   @ bus 3   \n",
      "P Losses (I^2*R)             -                 -0.00 MW    @ line 1-2\n",
      "Q Losses (I^2*X)             -                 48.43 MVAr  @ line 1-3\n",
      "\n",
      "================================================================================\n",
      "|     Bus Data                                                                 |\n",
      "================================================================================\n",
      " Bus      Voltage          Generation             Load        \n",
      "  #   Mag(pu) Ang(deg)   P (MW)   Q (MVAr)   P (MW)   Q (MVAr)\n",
      "----- ------- --------  --------  --------  --------  --------\n",
      "    1  0.948  -12.606       -         -      286.53    122.44 \n",
      "    2  1.050   -8.011      0.00    171.26     66.61      0.00 \n",
      "    3  1.000    0.000*   353.14     33.49       -         -   \n",
      "                        --------  --------  --------  --------\n",
      "               Total:    353.14    204.75    353.14    122.44\n",
      "\n",
      "================================================================================\n",
      "|     Branch Data                                                              |\n",
      "================================================================================\n",
      "Brnch   From   To    From Bus Injection   To Bus Injection     Loss (I^2 * Z)  \n",
      "  #     Bus    Bus    P (MW)   Q (MVAr)   P (MW)   Q (MVAr)   P (MW)   Q (MVAr)\n",
      "-----  -----  -----  --------  --------  --------  --------  --------  --------\n",
      "   0      1      2    -79.72    -94.73     79.72    109.61    -0.000     16.88\n",
      "   1      1      3   -206.81    -27.71    206.81     74.24    -0.000     48.43\n",
      "   2      2      3   -146.33     61.64    146.33    -40.75    -0.000     22.99\n",
      "                                                             --------  --------\n",
      "                                                    Total:     0.000     88.31\n"
     ]
    }
   ],
   "source": [
    "from  pypower.runpf import runpf\n",
    "from numpy import array\n",
    "from pypower.ppoption import ppoption\n",
    "\n",
    "\n",
    "\"\"\"\n",
    "    Power flow data for 3 bus, 2 gen case from CTS.\n",
    "    Require pypower to run.\n",
    "\"\"\"\n",
    "\n",
    "from numpy import array\n",
    "\n",
    "def case3():\n",
    "    \"\"\"Power flow data for 3 bus, 2 gen case from Cheng Tianshi.\n",
    "    Please see L{caseformat} for details on the case file format.\n",
    "\n",
    "\n",
    "    @return: Power flow data for 3 bus, 2 gen case from Cheng Tianshi.\n",
    "    \"\"\"\n",
    "    ppc = {\"version\": '2'}\n",
    "    ZL=0.1\n",
    "    YL=0.02\n",
    "    S1=2.8653+1.2244j\n",
    "    P2=0.6661\n",
    "    U2=1.05\n",
    "    ##-----  Power Flow Data  -----##\n",
    "    ## system MVA base\n",
    "    ppc[\"baseMVA\"] = 100\n",
    "    S1=S1*ppc[\"baseMVA\"]\n",
    "    P2=P2*ppc[\"baseMVA\"]\n",
    "    ## bus data\n",
    "    # bus_i type Pd Qd Gs Bs area Vm Va baseKV zone Vmax Vmin\n",
    "    ppc[\"bus\"] = array([\n",
    "        [1, 1,S1.real,S1.imag,0, 0, 1, 1, 0, 110, 1, 1.1, 0.9],\n",
    "        [2, 2, P2, 0, 0, 0, 1, 1, 0, 1, 110, 1.1, 0.9],\n",
    "        [3, 3, 0, 0, 0, 0, 1, 1, 0, 1, 110, 1.1, 0.9]\n",
    "    ])\n",
    "\n",
    "    ## generator data\n",
    "    # bus, Pg, Qg, Qmax, Qmin, Vg, mBase, status, Pmax, Pmin, Pc1, Pc2,\n",
    "    # Qc1min, Qc1max, Qc2min, Qc2max, ramp_agc, ramp_10, ramp_30, ramp_q, apf\n",
    "    ppc[\"gen\"] = array([\n",
    "         [2, 0,   0, 300, -300, U2, 100, 1, 250, 0.1, 0, 0, 0, 0, 0, 0, 0, 0, 0, 0, 0],\n",
    "          [3, 0,   0, 300, -300, 1, 100, 1, 250, 0.1, 0, 0, 0, 0, 0, 0, 0, 0, 0, 0, 0]\n",
    "    ])\n",
    "\n",
    "    ## branch data\n",
    "    #fbus, tbus, r, x, b, rateA, rateB, rateC, ratio, angle, status, angmin, angmax\n",
    "    ppc[\"branch\"] = array([\n",
    "        [1, 2, 0, ZL, YL, 0, 0, 0, 0, 0, 1, -360, 360],\n",
    "        [1, 3, 0, ZL, YL, 0, 0, 0, 0, 0,  1, -360, 360],\n",
    "        [2, 3, 0, ZL, YL, 0, 0, 0, 0, 0,  1, -360, 360]\n",
    "    ])\n",
    "\n",
    "    return ppc\n",
    "ppopt=ppoption()\n",
    "ppopt['PF_ALG']=1\n",
    "ppopt['PF_MAX_IT']=10\n",
    "ppopt['PF_TOL']=1e-3\n",
    "\n",
    "result=runpf(casedata=case3(),ppopt=ppopt)"
   ]
  },
  {
   "cell_type": "code",
   "execution_count": 26,
   "metadata": {
    "collapsed": false
   },
   "outputs": [
    {
     "data": {
      "text/plain": [
       "(0.7925687073958795+0.9269183189994782j)"
      ]
     },
     "execution_count": 26,
     "metadata": {},
     "output_type": "execute_result"
    }
   ],
   "source": [
    "from math import cos ,sin,radians\n",
    "cp=lambda m,d: complex(m*cos(radians(d)),m*sin(radians(d)))\n",
    "U1=cp(0.948,-12.6)\n",
    "U2=cp(1.05,-8.011)\n",
    "Y12=10j\n",
    "Y10=0.01j\n",
    "S12=(U1**2)*Y10.conjugate()+(U1*(U1.conjugate()-U2.conjugate())*Y12.conjugate())\n",
    "S12"
   ]
  },
  {
   "cell_type": "code",
   "execution_count": 27,
   "metadata": {
    "collapsed": false
   },
   "outputs": [
    {
     "name": "stdout",
     "output_type": "stream",
     "text": [
      "PYPOWER Version 5.0.0, 29-May-2015 -- AC Power Flow (fast-decoupled, XB)\n",
      "\n",
      "\n",
      "Fast-decoupled power flow converged in 4 P-iterations and 3 Q-iterations.\n",
      "\n",
      "Converged in 0.01 seconds\n",
      "================================================================================\n",
      "|     System Summary                                                           |\n",
      "================================================================================\n",
      "\n",
      "How many?                How much?              P (MW)            Q (MVAr)\n",
      "---------------------    -------------------  -------------  -----------------\n",
      "Buses              3     Total Gen Capacity     500.0        -600.0 to 600.0\n",
      "Generators         2     On-line Capacity       500.0        -600.0 to 600.0\n",
      "Committed Gens     2     Generation (actual)    353.1             204.7\n",
      "Loads              2     Load                   353.1             122.4\n",
      "  Fixed            2       Fixed                353.1             122.4\n",
      "  Dispatchable     0       Dispatchable           0.0 of 0.0        0.0\n",
      "Shunts             0     Shunt (inj)              0.0               0.0\n",
      "Branches           3     Losses (I^2 * Z)         0.00             88.30\n",
      "Transformers       0     Branch Charging (inj)     -                6.0\n",
      "Inter-ties         0     Total Inter-tie Flow     0.0               0.0\n",
      "Areas              1\n",
      "\n",
      "                          Minimum                      Maximum\n",
      "                 -------------------------  --------------------------------\n",
      "Voltage Magnitude   0.948 p.u. @ bus 1          1.050 p.u. @ bus 2   \n",
      "Voltage Angle     -12.61 deg   @ bus 1          0.00 deg   @ bus 3   \n",
      "P Losses (I^2*R)             -                 -0.00 MW    @ line 1-2\n",
      "Q Losses (I^2*X)             -                 48.43 MVAr  @ line 1-3\n",
      "\n",
      "================================================================================\n",
      "|     Bus Data                                                                 |\n",
      "================================================================================\n",
      " Bus      Voltage          Generation             Load        \n",
      "  #   Mag(pu) Ang(deg)   P (MW)   Q (MVAr)   P (MW)   Q (MVAr)\n",
      "----- ------- --------  --------  --------  --------  --------\n",
      "    1  0.948  -12.606       -         -      286.53    122.44 \n",
      "    2  1.050   -8.011      0.00    171.22     66.61      0.00 \n",
      "    3  1.000    0.000*   353.14     33.45       -         -   \n",
      "                        --------  --------  --------  --------\n",
      "               Total:    353.14    204.67    353.14    122.44\n",
      "\n",
      "================================================================================\n",
      "|     Branch Data                                                              |\n",
      "================================================================================\n",
      "Brnch   From   To    From Bus Injection   To Bus Injection     Loss (I^2 * Z)  \n",
      "  #     Bus    Bus    P (MW)   Q (MVAr)   P (MW)   Q (MVAr)   P (MW)   Q (MVAr)\n",
      "-----  -----  -----  --------  --------  --------  --------  --------  --------\n",
      "   0      1      2    -79.71    -94.70     79.71    109.58    -0.000     16.87\n",
      "   1      1      3   -206.82    -27.68    206.82     74.21    -0.000     48.43\n",
      "   2      2      3   -146.33     61.64    146.33    -40.75    -0.000     22.99\n",
      "                                                             --------  --------\n",
      "                                                    Total:     0.000     88.30\n"
     ]
    }
   ],
   "source": [
    "ppopt['PF_ALG']=2\n",
    "ppopt['PF_MAX_IT']=10\n",
    "result=runpf(casedata=case3(),ppopt=ppopt)"
   ]
  }
 ],
 "metadata": {
  "kernelspec": {
   "display_name": "Python 3",
   "language": "python",
   "name": "python3"
  },
  "language_info": {
   "codemirror_mode": {
    "name": "ipython",
    "version": 3
   },
   "file_extension": ".py",
   "mimetype": "text/x-python",
   "name": "python",
   "nbconvert_exporter": "python",
   "pygments_lexer": "ipython3",
   "version": "3.4.3"
  }
 },
 "nbformat": 4,
 "nbformat_minor": 0
}
