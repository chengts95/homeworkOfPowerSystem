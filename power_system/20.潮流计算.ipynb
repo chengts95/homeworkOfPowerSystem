{
 "cells": [
  {
   "cell_type": "markdown",
   "metadata": {},
   "source": [
    "20．\t求下图所示电力系统受端母线电压。已知：负荷为2＋j0.8，送端电压为1＋j0，线路导纳为1.0-j4.0，变压器电抗j0.4，非标准变比1：1.1。试用牛顿－拉夫逊法迭代一次。\n",
    "<img src=\"./20题图.png\" />"
   ]
  },
  {
   "cell_type": "code",
   "execution_count": 7,
   "metadata": {
    "collapsed": false
   },
   "outputs": [
    {
     "name": "stdout",
     "output_type": "stream",
     "text": [
      "PYPOWER Version 5.0.0, 29-May-2015 -- AC Power Flow (Newton)\n",
      "\n",
      "\n",
      "Newton's method power did not converge in 1 iterations.\n",
      "\n",
      "Did not converge (0.01 seconds)\n",
      "\n",
      "================================================================================\n",
      "|     System Summary                                                           |\n",
      "================================================================================\n",
      "\n",
      "How many?                How much?              P (MW)            Q (MVAr)\n",
      "---------------------    -------------------  -------------  -----------------\n",
      "Buses              3     Total Gen Capacity     450.0        -300.0 to 300.0\n",
      "Generators         1     On-line Capacity       450.0        -300.0 to 300.0\n",
      "Committed Gens     1     Generation (actual)    138.1             147.3\n",
      "Loads              1     Load                   200.0              80.0\n",
      "  Fixed            1       Fixed                200.0              80.0\n",
      "  Dispatchable     0       Dispatchable           0.0 of 0.0        0.0\n",
      "Shunts             0     Shunt (inj)              0.0               0.0\n",
      "Branches           2     Losses (I^2 * Z)        15.36            196.24\n",
      "Transformers       1     Branch Charging (inj)     -                0.0\n",
      "Inter-ties         0     Total Inter-tie Flow     0.0               0.0\n",
      "Areas              1\n",
      "\n",
      "                          Minimum                      Maximum\n",
      "                 -------------------------  --------------------------------\n",
      "Voltage Magnitude   0.450 p.u. @ bus 2          1.000 p.u. @ bus 0   \n",
      "Voltage Angle     -65.94 deg   @ bus 2          0.00 deg   @ bus 0   \n",
      "P Losses (I^2*R)             -                 15.36 MW    @ line 1-2\n",
      "Q Losses (I^2*X)             -                134.80 MVAr  @ line 0-1\n",
      "\n",
      "================================================================================\n",
      "|     Bus Data                                                                 |\n",
      "================================================================================\n",
      " Bus      Voltage          Generation             Load        \n",
      "  #   Mag(pu) Ang(deg)   P (MW)   Q (MVAr)   P (MW)   Q (MVAr)\n",
      "----- ------- --------  --------  --------  --------  --------\n",
      "    0  1.000    0.000*   138.14    147.29       -         -   \n",
      "    1  0.756  -41.670       -         -         -         -   \n",
      "    2  0.450  -65.936       -         -      200.00     80.00 \n",
      "                        --------  --------  --------  --------\n",
      "               Total:    138.14    147.29    200.00     80.00\n",
      "\n",
      "================================================================================\n",
      "|     Branch Data                                                              |\n",
      "================================================================================\n",
      "Brnch   From   To    From Bus Injection   To Bus Injection     Loss (I^2 * Z)  \n",
      "  #     Bus    Bus    P (MW)   Q (MVAr)   P (MW)   Q (MVAr)   P (MW)   Q (MVAr)\n",
      "-----  -----  -----  --------  --------  --------  --------  --------  --------\n",
      "   0      1      2     81.97     90.49    -66.61    -29.05    15.360     61.44\n",
      "   1      0      1    138.14    147.29   -138.14    -12.49    -0.000    134.80\n",
      "                                                             --------  --------\n",
      "                                                    Total:    15.360    196.24\n"
     ]
    },
    {
     "data": {
      "text/plain": [
       "(0.058823529411764705+0.23529411764705882j)"
      ]
     },
     "execution_count": 7,
     "metadata": {},
     "output_type": "execute_result"
    }
   ],
   "source": [
    "from  pypower.runpf import runpf\n",
    "from numpy import array\n",
    "from pypower.ppoption import ppoption\n",
    "\n",
    "\n",
    "\"\"\"\n",
    "Power flow data for 3 bus, 1 gen case from Cheng Tianshi\n",
    "Require PYPOWER to run.\n",
    "\"\"\"\n",
    "\n",
    "from numpy import array\n",
    "\n",
    "def case3():\n",
    "    \"\"\"Power flow data for 3 bus, 1 gen case from Cheng Tianshi.\n",
    "    Please see L{caseformat} for details on the case file format.\n",
    "\n",
    "\n",
    "    @return: Power flow data for 3 bus, 1 gen case from Cheng Tianshi.\n",
    "    \"\"\"\n",
    "    ppc = {\"version\": '2'}\n",
    "\n",
    "    ##-----  Power Flow Data  -----##\n",
    "    ## system MVA base\n",
    "    ppc[\"baseMVA\"] = 100\n",
    "    ZL=1/(1-4j)\n",
    "    XT=0.4\n",
    "    k=1/1.1\n",
    "    S1=(2+0.8j)*100\n",
    "    ## bus data\n",
    "    # bus_i type Pd Qd Gs Bs area Vm Va baseKV zone Vmax Vmin\n",
    "    ppc[\"bus\"] = array([\n",
    "        [0, 3, 0,  0,  0, 0, 1, 1, 0, 10, 1, 1.1, 0.9],\n",
    "        [1, 1, 0, 0, 0, 0, 1, 1, 0, 110, 1, 1.1, 0.9],\n",
    "        [2, 1, S1.real, S1.imag, 0, 0, 1, 1, 0, 110, 1, 1.1, 0.9]\n",
    "    ])\n",
    "\n",
    "    ## generator data\n",
    "    # bus, Pg, Qg, Qmax, Qmin, Vg, mBase, status, Pmax, Pmin, Pc1, Pc2,\n",
    "    # Qc1min, Qc1max, Qc2min, Qc2max, ramp_agc, ramp_10, ramp_30, ramp_q, apf\n",
    "    ppc[\"gen\"] = array([\n",
    "         [0, 0,   0, 300, -300, 1, 0,1, 450, 0.1, 0, 0, 0, 0, 0, 0, 0, 0, 0, 0, 0]\n",
    " \n",
    "    ])\n",
    "\n",
    "    ## branch data\n",
    "    #fbus, tbus, r, x, b, rateA, rateB, rateC, ratio, angle, status, angmin, angmax\n",
    "    ppc[\"branch\"] = array([\n",
    "       [1, 2, ZL.real, ZL.imag, 0, 0, 0,0, 0, 0, 1, -360, 360],\n",
    "        [0, 1,0 , XT, 0, 0, 0, 0, k, 0, 1, -360, 360]\n",
    "    ])\n",
    "\n",
    "    return ppc\n",
    "ppopt=ppoption()\n",
    "ppopt['PF_ALG']=1\n",
    "ppopt['PF_MAX_IT']=1\n",
    "result=runpf(casedata=case3(),ppopt=ppopt)\n",
    "1/(1-4j)"
   ]
  },
  {
   "cell_type": "code",
   "execution_count": 8,
   "metadata": {
    "collapsed": false
   },
   "outputs": [
    {
     "data": {
      "text/plain": [
       "(1.1039269769691802, -0.012697618662075822)"
      ]
     },
     "execution_count": 8,
     "metadata": {},
     "output_type": "execute_result"
    }
   ],
   "source": []
  },
  {
   "cell_type": "code",
   "execution_count": null,
   "metadata": {
    "collapsed": true
   },
   "outputs": [],
   "source": []
  },
  {
   "cell_type": "code",
   "execution_count": null,
   "metadata": {
    "collapsed": true
   },
   "outputs": [],
   "source": []
  }
 ],
 "metadata": {
  "kernelspec": {
   "display_name": "Python 3",
   "language": "python",
   "name": "python3"
  },
  "language_info": {
   "codemirror_mode": {
    "name": "ipython",
    "version": 3
   },
   "file_extension": ".py",
   "mimetype": "text/x-python",
   "name": "python",
   "nbconvert_exporter": "python",
   "pygments_lexer": "ipython3",
   "version": "3.4.3"
  }
 },
 "nbformat": 4,
 "nbformat_minor": 0
}
