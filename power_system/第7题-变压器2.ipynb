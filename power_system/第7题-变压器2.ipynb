{
 "cells": [
  {
   "cell_type": "markdown",
   "metadata": {},
   "source": [
    "7．\t某变电所，以三台单相双绕组变压器按星形连结，组成三相变压器组。每台变压器容量为3500KVA。电压为20.2/6.6KV，空载、短路试验数据如下：\n",
    "\n",
    "试验数据|第一台|第二台|第三台\n",
    "-|-----\n",
    "短路损耗(KW)|27.6|28.9|29.40\n",
    "短路电压(Uk%)| 6.42|6.54|6.55\n",
    "空载损耗(KW) |11.05|8.40|10.60\n",
    "空载电流(I0%)|2.00|1.42|1.84\n",
    "\n",
    "试作这变压器的等值电路，并将参数（归算至高压侧）注在图上。"
   ]
  },
  {
   "cell_type": "code",
   "execution_count": null,
   "metadata": {
    "collapsed": false
   },
   "outputs": [],
   "source": [
    "Sn=3.5#MVA\n",
    "Un=20.2#kv\n",
    "\n",
    "\n",
    "Rt=lambda pk:pk*Un**2/(1000*Sn**2)\n",
    "Xt=lambda uk:uk*Un**2/(100*Sn)\n",
    "Gt=lambda p0:p0/(1000*Un**2)\n",
    "Bt=lambda i0:i0*Sn/(100*Un**2)\n",
    "Pk=[27.6,28.9,29.4]\n",
    "Uk=[6.42,6.54,6.55]\n",
    "P0=[11.05,8.4,10.6]\n",
    "I0=[2,1.42,1.84]\n",
    "rt=[]\n",
    "xt=[]\n",
    "gt=[]\n",
    "bt=[]\n",
    "for i in range(3):\n",
    "    rt.append(Rt(Pk[i]))\n",
    "    xt.append(Xt(Uk[i]))\n",
    "    gt.append(Gt(P0[i]))\n",
    "    bt.append(Bt(I0[i]))\n",
    "    \n",
    "def fmt(x):\n",
    "    return format(x,\"e\")\n",
    "    \n",
    "\n",
    "\n",
    "\n",
    "print(list(map(fmt,rt)))\n",
    "print(list(map(fmt,xt)))\n",
    "print(list(map(fmt,gt)))\n",
    "print(list(map(fmt,bt)))"
   ]
  }
 ],
 "metadata": {
  "kernelspec": {
   "display_name": "Python 3",
   "language": "python",
   "name": "python3"
  },
  "language_info": {
   "codemirror_mode": {
    "name": "ipython",
    "version": 3
   },
   "file_extension": ".py",
   "mimetype": "text/x-python",
   "name": "python",
   "nbconvert_exporter": "python",
   "pygments_lexer": "ipython3",
   "version": "3.4.3"
  }
 },
 "nbformat": 4,
 "nbformat_minor": 0
}
