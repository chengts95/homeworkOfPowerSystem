{
 "cells": [
  {
   "cell_type": "markdown",
   "metadata": {},
   "source": [
    " 6．\t一条220kV、250km单回架空输电线，用LGJQ-400型导线架设。其参数为：$r_{1}=0.08\\Omega/km$ ，$x_{1}=0.416\\Omega/km$ ，$b_{1}=2.80\\times10^{-6}/km$ ，试用集中参数的$\\pi$型等值电路进行下列计算。当输送功率为150MW、功率因数为0.8、受端电压为210kV时，送端电压和功率为多少？如果功率因数为1.0，其余条件一样，那么送端电压和功率又为多少？"
   ]
  },
  {
   "cell_type": "code",
   "execution_count": null,
   "metadata": {
    "collapsed": false
   },
   "outputs": [],
   "source": [
    "import numpy as np\n",
    "from math import sqrt,tan,acos\n",
    "r1=0.08\n",
    "x1=0.416\n",
    "b1=2.8e-6\n",
    "Un=220#kv\n",
    "L=250#km\n",
    "Z=L*complex(r1,x1)\n",
    "Y=complex(0,b1*L)\n",
    "\n",
    "U2L=210\n",
    "U2=U2L/sqrt(3)#作为参考向量\n",
    "P2=150#MW\n",
    "\n",
    "S=complex(P2,P2*tan(acos(1)))\n",
    "I2_conj=S/(sqrt(3)*U2L)#kA\n",
    "\n",
    "A=1+(Z*Y/2)\n",
    "B=Z\n",
    "C=Y*(1+(Z*Y/4))\n",
    "D=A\n",
    "\n",
    "I2=I2_conj.conjugate()\n",
    "\n",
    "m1=np.mat([[A,B],[C,D]])\n",
    "m2=np.mat([[U2],[I2]])\n",
    "M=m1*m2\n",
    "\n",
    "u1l=sqrt(M[0].real**2+M[0].imag**2)*sqrt(3)\n",
    "s1=3*M[0]*(M[1].conjugate())\n",
    "\n",
    "print(\"U1L=\",u1l,\"s1=\",s1)"
   ]
  }
 ],
 "metadata": {
  "kernelspec": {
   "display_name": "Python 3",
   "language": "python",
   "name": "python3"
  },
  "language_info": {
   "codemirror_mode": {
    "name": "ipython",
    "version": 3
   },
   "file_extension": ".py",
   "mimetype": "text/x-python",
   "name": "python",
   "nbconvert_exporter": "python",
   "pygments_lexer": "ipython3",
   "version": "3.4.3"
  }
 },
 "nbformat": 4,
 "nbformat_minor": 0
}
