{
 "cells": [
  {
   "cell_type": "markdown",
   "metadata": {},
   "source": [
    "22．\t三个电力系统联合运行如图。该系统A的单位调节功率$K_{A}=100MW/Hz$ ，系统B、C的单位调节功率$K_{B}=K_{C}=200MH/Hz$ 。设系统A中负荷增加100MW。系统B中的发电厂作二次调频增发50MW。试计算，联合系统中的频率变化量$\\Delta f$和联络线上交换功率$P_{ab}$ 、$P_{bc}$ 的变化量。\n",
    "<img src=\"./22题图.png\" />"
   ]
  },
  {
   "cell_type": "code",
   "execution_count": 2,
   "metadata": {
    "collapsed": false
   },
   "outputs": [
    {
     "data": {
      "text/plain": [
       "(-0.1, -70.0, -60.0)"
      ]
     },
     "execution_count": 2,
     "metadata": {},
     "output_type": "execute_result"
    }
   ],
   "source": [
    "Ka=100\n",
    "Kb=200\n",
    "Kc=200\n",
    "dPla=100\n",
    "dPgb=50\n",
    "K=Ka+Kb+Kc\n",
    "df = lambda dPl,dPg,K: -(dPla-dPgb)/K\n",
    "df1=df(dPla,dPgb,K)\n",
    "\n",
    "trans_power=lambda Ka,Kb,Pa,Pb: (Ka*Pb-Kb*Pa)/(Ka+Kb)\n",
    "\n",
    "Pa=dPla\n",
    "Pb=dPgb\n",
    "Pc=0\n",
    "#BC作为一个系统\n",
    "Pab=trans_power(Ka,Kb+Kc,Pa,Pb+Pc)\n",
    "#AB作为一个系统\n",
    "Pbc=trans_power(Kb+Ka,Kc,Pb+Pa,Pc)\n",
    "df1,Pab,Pbc"
   ]
  },
  {
   "cell_type": "markdown",
   "metadata": {},
   "source": [
    "23．\t系统A：当负荷增加250MW时，频率下降0.1HZ。系统B：当负荷增加400MW时，频率下降0.1HZ。系统A运行于49.85HZ，系统B运行于50HZ，如用联络线将两系统相连，求联络线上的功率。"
   ]
  },
  {
   "cell_type": "code",
   "execution_count": 6,
   "metadata": {
    "collapsed": false
   },
   "outputs": [
    {
     "name": "stdout",
     "output_type": "stream",
     "text": [
      "-230.76923076922859\n"
     ]
    },
    {
     "data": {
      "text/plain": [
       "-230.76923076922859"
      ]
     },
     "execution_count": 6,
     "metadata": {},
     "output_type": "execute_result"
    }
   ],
   "source": [
    "Ka=2500\n",
    "Kb=4000\n",
    "fa=49.85\n",
    "fb=50\n",
    "df2=fb-fa\n",
    "dPl=df2*Ka\n",
    "\n",
    "dfab=-1*dPl/(Ka+Kb)#B下降的频率\n",
    "Pab=dfab*Kb\n",
    "\n",
    "trans_power(Ka,Kb,dPl,0)"
   ]
  },
  {
   "cell_type": "markdown",
   "metadata": {},
   "source": [
    "24．\tA、B两系统经联络线相连，已知：$K_{GA}=270MW/Hz$ ，$K_{LA}=21MW/Hz$  ，$K_{GB}=480MW/Hz$  ，$K_{LB}=21MW/Hz$  ，$P_{AB}=300MW$  ，系统B负荷增加150MW。1）两系统所有发电机均仅参加一次调频，求系统频率、联络线功率变化量，A、B两系统发电机和负荷功率变化量；2）除一次调频外，A系统设调频厂进行二次调频，联络线最大允许输送功率为400MW，求系统频率的变化量。"
   ]
  },
  {
   "cell_type": "code",
   "execution_count": 8,
   "metadata": {
    "collapsed": false
   },
   "outputs": [
    {
     "data": {
      "text/plain": [
       "-0.1893939393939394"
      ]
     },
     "execution_count": 8,
     "metadata": {},
     "output_type": "execute_result"
    }
   ],
   "source": [
    "Ka=291\n",
    "Kb=501\n",
    "Plb=150\n",
    "df=-1*Plb/(Ka+Kb)\n",
    "\n",
    "\n",
    "trans_power(Ka,Kb,0,Plb)\n",
    "df"
   ]
  },
  {
   "cell_type": "code",
   "execution_count": 3,
   "metadata": {
    "collapsed": false
   },
   "outputs": [
    {
     "data": {
      "text/plain": [
       "0.3436426116838488"
      ]
     },
     "execution_count": 3,
     "metadata": {},
     "output_type": "execute_result"
    }
   ],
   "source": [
    "100/Ka"
   ]
  },
  {
   "cell_type": "code",
   "execution_count": null,
   "metadata": {
    "collapsed": true
   },
   "outputs": [],
   "source": []
  }
 ],
 "metadata": {
  "kernelspec": {
   "display_name": "Python 3",
   "language": "python",
   "name": "python3"
  },
  "language_info": {
   "codemirror_mode": {
    "name": "ipython",
    "version": 3
   },
   "file_extension": ".py",
   "mimetype": "text/x-python",
   "name": "python",
   "nbconvert_exporter": "python",
   "pygments_lexer": "ipython3",
   "version": "3.4.3"
  }
 },
 "nbformat": 4,
 "nbformat_minor": 0
}
