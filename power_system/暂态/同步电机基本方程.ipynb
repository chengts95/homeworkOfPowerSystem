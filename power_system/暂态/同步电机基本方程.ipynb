{
 "cells": [
  {
   "cell_type": "markdown",
   "metadata": {},
   "source": [
    "# 同步发电机基本方程\n",
    "\n",
    "同步发电机有六个电路回路，需要建立三个定子绕组，一个励磁绕组，直轴和交轴阻尼绕组的方程。首先是磁链和电流、电压的正方向。规定定子电流所产生磁通方向与该相绕组轴线正方向相反时，电流为正(磁通正方向与电流正方向相反)。转子绕组电流产生磁通方向与d,q轴正方向相同时，电流为正。\n",
    "\n",
    "以凸极机为例,有如下示意图:\n",
    "\n",
    "<img src=\"同步发电机绕组示意图.png\" height=\"200\" width=\"200\"></img>\n",
    "\n",
    "其中$\\theta=\\theta_{0}+\\omega t$为d轴与a相夹角，$\\theta_{0}$为电机旋转初始角度.\n",
    "\n",
    "据此，可有如下等效电路图：\n",
    "\n",
    "<img src=\"同步发电机等效电路1.png\" ></img>\n",
    "\n",
    "可列方程组如下：\n",
    "\n",
    "电路方程：\n",
    "\n",
    "$\\begin{equation}%开始数学环境\n",
    "\\left[                %左括号\n",
    "  \\begin{array}{ddd}  \n",
    "    u_{a}\\\\  %第一行元素\n",
    "    u_{b}\\\\  %第二行元素\n",
    "    u_{c}\\\\\n",
    "    u_{f}\\\\\n",
    "    0\\\\\n",
    "    0\\\\\n",
    "  \\end{array}\n",
    "\\right]\n",
    "\\end{equation}\n",
    "=$\n",
    "$\\begin{equation}\n",
    "\\left[                %左括号\n",
    "  \\begin{array}{ccc}  \n",
    "    r & 0 & 0 & 0 & 0 & 0\\\\  %第一行元素\n",
    "    0 & r & 0 & 0 & 0 & 0\\\\  %第二行元素\n",
    "    0 & 0 & r & 0 & 0 & 0\\\\\n",
    "    0 & 0 & 0 & r_{f} & 0 & 0\\\\\n",
    "    0 & 0 & 0 & 0 & r_{D} & 0\\\\\n",
    "    0 & 0 & 0 & 0 & 0 & r_{Q}\\\\\n",
    "  \\end{array}\n",
    "\\right]                %右括号\n",
    "\\end{equation}\n",
    "$\n",
    "$\n",
    "\\begin{equation}\n",
    "\\left[                %左括号\n",
    "  \\begin{array}{ccc}  \n",
    "    -i_{a}\\\\  %第一行元素\n",
    "    -i_{b}\\\\  %第二行元素\n",
    "    -i_{c}\\\\\n",
    "    i_{f}\\\\\n",
    "    i_{D}\\\\\n",
    "    i_{Q}\\\\\n",
    "  \\end{array}\n",
    "\\right]                %右括号\n",
    "\\end{equation}\n",
    "+$\n",
    "$\n",
    "\\begin{equation}\n",
    "\\left[                %左括号\n",
    "  \\begin{array}{ccc}  \n",
    "    \\psi_{a}\\\\  %第一行元素\n",
    "    \\psi_{b}\\\\  %第二行元素\n",
    "    \\psi_{c}\\\\\n",
    "    \\psi_{f}\\\\\n",
    "    \\psi_{D}\\\\\n",
    "    \\psi_{Q}\\\\\n",
    "  \\end{array}\n",
    "\\right]                %右括号\n",
    "\\end{equation}\n",
    "$\n",
    "\n",
    "磁链方程：\n",
    "\n",
    "$\\begin{equation}\n",
    "\\left[                %左括号\n",
    "  \\begin{array}{ccc}  \n",
    "    \\dot \\psi_{a}\\\\  %第一行元素\n",
    "    \\dot \\psi_{b}\\\\  %第二行元素\n",
    "    \\dot \\psi_{c}\\\\\n",
    "    \\dot \\psi_{f}\\\\\n",
    "    \\dot \\psi_{D}\\\\\n",
    "    \\dot \\psi_{Q}\\\\\n",
    "  \\end{array}\n",
    "\\right]                %右括号\n",
    "\\end{equation}\n",
    "$\n",
    "$=\\begin{equation}\n",
    "\\left[                %左括号\n",
    "  \\begin{array}{ccc}  \n",
    "    L_{aa} & M_{ab} & M_{ac} & M_{af} & M_{aD} & M_{aQ}\\\\  %第一行元素\n",
    "    M_{ba} & L_{bb} & M_{bc} & M_{bf} & M_{bD} & M_{bQ}\\\\  %第二行元素\n",
    "    M_{ca} & M_{cb} & L_{cc} & M_{cf} & M_{cD} & M_{cQ}\\\\\n",
    "    M_{fa} & M_{fb} & M_{fc} & L_{ff} & M_{fD} & M_{fQ}\\\\\n",
    "    M_{Da} & M_{Db} & M_{Dc} & L_{Df} & L_{DD} & M_{fQ}\\\\\n",
    "    M_{Qa} & M_{Qb} & M_{Qc} & M_{Qf} & M_{QD} & L_{QQ}\\\\\n",
    "  \\end{array}\n",
    "\\right]                %右括号\n",
    "\\end{equation}\n",
    "$\n",
    "$\\begin{equation}\n",
    "\\left[                %左括号\n",
    "  \\begin{array}{ccc}  \n",
    "    -i_{a}\\\\  %第一行元素\n",
    "    -i_{b}\\\\  %第二行元素\n",
    "    -i_{c}\\\\\n",
    "    i_{f}\\\\\n",
    "    i_{D}\\\\\n",
    "    i_{Q}\\\\\n",
    "  \\end{array}\n",
    "\\right]                %右括号\n",
    "\\end{equation}$"
   ]
  },
  {
   "cell_type": "markdown",
   "metadata": {
    "collapsed": true
   },
   "source": [
    "由于以下两个原因：\n",
    "1. d轴，q轴磁阻不同，交联的磁链不同。\n",
    "2. 电机转子一直旋转。\n",
    "\n",
    "所以对于凸极机而言磁链方程中的定子自感及其互感都为变量，电压方程变为变系数微分方程，不便求解。因此需要进行坐标变换。\n",
    "\n",
    "## park变换\n",
    "\n",
    "站在转子角度，将定子电流$i_{a},i_{b},i_{c}$分解到d轴，q轴，0轴即以$i_{d},i_{q},i_{0}$表示。根据电机绕组示意图，有如下变换:\n",
    "\n",
    "$\\begin{equation}\n",
    "\\left[                %左括号\n",
    "  \\begin{array}{ccc}  \n",
    "    i_{d}\\\\  %第一行元素\n",
    "    i_{q}\\\\  %第二行元素\n",
    "    i_{0}\\\\\n",
    "\\end{array}\n",
    "\\right]                %右括号\n",
    "\\end{equation}\n",
    "$\n",
    "$=\\frac{2}{3}\\begin{equation}\n",
    "\\left[                %左括号\n",
    "  \\begin{array}{ccc}  \n",
    "    cos\\theta & cos(\\theta-120^{\\circ}) & cos(\\theta+120^{\\circ})\\\\  %第一行元素\n",
    "    -sin\\theta & -sin(\\theta-120^{\\circ}) & -sin(\\theta+120^{\\circ})\\\\  %第二行元素\n",
    "    \\frac{1}{2} & \\frac{1}{2} & \\frac{1}{2}\\\\\n",
    "  \\end{array}\n",
    "\\right]                %右括号\n",
    "\\end{equation}\n",
    "$\n",
    "$\\begin{equation}\n",
    "\\left[                %左括号\n",
    "  \\begin{array}{ccc}  \n",
    "    i_{a}\\\\  %第一行元素\n",
    "    i_{b}\\\\  %第二行元素\n",
    "    i_{c}\\\\\n",
    "  \\end{array}\n",
    "\\right]                %右括号\n",
    "\\end{equation}$"
   ]
  },
  {
   "cell_type": "code",
   "execution_count": 5,
   "metadata": {
    "collapsed": false
   },
   "outputs": [
    {
     "data": {
      "text/latex": [
       "$$\\left ( \\left[\\begin{matrix}1.0 \\sqrt{2} I \\cos{\\left (\\alpha_{{0}} - \\theta_{{0}} \\right )}\\\\0.5 \\sqrt{2} I \\sin{\\left (\\alpha_{{0}} - \\theta_{{0}} \\right )}\\\\0\\end{matrix}\\right], \\quad \\left[\\begin{matrix}1.0 \\sqrt{2} I \\cos{\\left (\\alpha_{{0}} + 2 \\omega t + \\theta_{{0}} \\right )}\\\\- 1.0 \\sqrt{2} I \\sin{\\left (\\alpha_{{0}} + 2 \\omega t + \\theta_{{0}} \\right )}\\\\0\\end{matrix}\\right], \\quad \\left[\\begin{matrix}0\\\\0\\\\1.0 \\sqrt{2} I \\cos{\\left (\\omega t \\right )}\\end{matrix}\\right]\\right )$$"
      ],
      "text/plain": [
       "⎛⎡      ___                               ⎤  ⎡      ___                       \n",
       "⎜⎢1.0⋅╲╱ 2 ⋅I⋅cos(\\alpha_{0} - \\theta_{0})⎥, ⎢1.0⋅╲╱ 2 ⋅I⋅cos(\\alpha_{0} + 2⋅\\\n",
       "⎜⎢                                        ⎥  ⎢                                \n",
       "⎜⎢      ___                               ⎥  ⎢       ___                      \n",
       "⎜⎢0.5⋅╲╱ 2 ⋅I⋅sin(\\alpha_{0} - \\theta_{0})⎥  ⎢-1.0⋅╲╱ 2 ⋅I⋅sin(\\alpha_{0} + 2⋅\n",
       "⎜⎢                                        ⎥  ⎢                                \n",
       "⎝⎣                   0                    ⎦  ⎣                          0     \n",
       "\n",
       "                      ⎤                             ⎞\n",
       "omega⋅t + \\theta_{0}) ⎥, ⎡            0            ⎤⎟\n",
       "                      ⎥  ⎢                         ⎥⎟\n",
       "                      ⎥  ⎢            0            ⎥⎟\n",
       "\\omega⋅t + \\theta_{0})⎥  ⎢                         ⎥⎟\n",
       "                      ⎥  ⎢      ___                ⎥⎟\n",
       "                      ⎦  ⎣1.0⋅╲╱ 2 ⋅I⋅cos(\\omega⋅t)⎦⎠"
      ]
     },
     "execution_count": 5,
     "metadata": {},
     "output_type": "execute_result"
    }
   ],
   "source": [
    "#符号推演用\n",
    "#p.36，例题2-4(1)\n",
    "import sympy\n",
    "from  sympy import symbols,cos,sin,pi\n",
    "from sympy.matrices import Matrix, eye, zeros, ones, diag, GramSchmidt\n",
    "sympy.init_printing(use_latex='mathjax')\n",
    "theta0,t,w,a0,I=symbols(\"\\\\theta_{0},t,\\omega,\\\\alpha_{0},I\")\n",
    "theta=w*t+theta0\n",
    "i_abc=sympy.sqrt(2)*I*Matrix(([cos(w*t+a0),cos(w*t+a0-(2*pi/3)),cos(w*t+a0+(2*pi/3))]))\n",
    "i_abcf=sympy.sqrt(2)*I*Matrix(([cos(w*t+a0),cos(w*t+a0+(2*pi/3)),cos(w*t+a0-(2*pi/3))]))\n",
    "i_abc0=sympy.sqrt(2)*I*Matrix(([cos(w*t),cos(w*t),cos(w*t)]))\n",
    "park_martirx=(2/3)*Matrix(\n",
    "    ([sympy.cos(theta), sympy.cos(theta-(2*pi/3)), sympy.cos(theta+(2*pi/3))],\n",
    "    [-1*sympy.sin(theta), -1*sympy.sin(theta-(2*pi/3)), -1*sympy.sin(theta+(2*pi/3))],\n",
    "    [0.5, 0.5, 0.5])\n",
    ")\n",
    "def park(i_abc):\n",
    "    idq0=park_martirx*i_abc\n",
    "    for i in range(3):\n",
    "        idq0[i]=idq0[i].trigsimp()\n",
    "    return idq0\n",
    "(park(i_abc),park(i_abcf),park(i_abc0))"
   ]
  },
  {
   "cell_type": "code",
   "execution_count": 6,
   "metadata": {
    "collapsed": false
   },
   "outputs": [],
   "source": [
    "import numpy as np\n",
    "#p.36，例题2-4(2) 数值算法\n",
    "i_abc=np.matrix([1,-0.25,-0.25])\n",
    "def park_transform(theta, i_abc):\n",
    "    theta=np.deg2rad([theta,theta-120,theta+120])\n",
    "    park_martirx = (2/3)*np.matrix([[np.cos(theta[0]), np.cos(theta[1]), np.cos(theta[2])],\n",
    "                             [-np.sin(theta[0]), -np.sin(theta[1]), -np.sin(theta[2])],\n",
    "                             [0.5, 0.5, 0.5]])\n",
    "    i_dq0 = park_martirx*i_abc\n",
    "    return i_dq0"
   ]
  },
  {
   "cell_type": "code",
   "execution_count": 7,
   "metadata": {
    "collapsed": false
   },
   "outputs": [
    {
     "data": {
      "text/plain": [
       "matrix([[  2.77555756e-17],\n",
       "        [ -8.33333333e-01],\n",
       "        [  1.66666667e-01]])"
      ]
     },
     "execution_count": 7,
     "metadata": {},
     "output_type": "execute_result"
    }
   ],
   "source": [
    "park_transform(90, i_abc.T)"
   ]
  },
  {
   "cell_type": "code",
   "execution_count": null,
   "metadata": {
    "collapsed": false
   },
   "outputs": [],
   "source": []
  },
  {
   "cell_type": "code",
   "execution_count": null,
   "metadata": {
    "collapsed": true
   },
   "outputs": [],
   "source": []
  },
  {
   "cell_type": "code",
   "execution_count": null,
   "metadata": {
    "collapsed": true
   },
   "outputs": [],
   "source": []
  }
 ],
 "metadata": {
  "kernelspec": {
   "display_name": "Python 3",
   "language": "python",
   "name": "python3"
  },
  "language_info": {
   "codemirror_mode": {
    "name": "ipython",
    "version": 3
   },
   "file_extension": ".py",
   "mimetype": "text/x-python",
   "name": "python",
   "nbconvert_exporter": "python",
   "pygments_lexer": "ipython3",
   "version": "3.5.1"
  }
 },
 "nbformat": 4,
 "nbformat_minor": 0
}
